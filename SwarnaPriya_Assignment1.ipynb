{
  "nbformat": 4,
  "nbformat_minor": 0,
  "metadata": {
    "colab": {
      "provenance": [],
      "collapsed_sections": []
    },
    "kernelspec": {
      "name": "python3",
      "display_name": "Python 3"
    },
    "language_info": {
      "name": "python"
    }
  },
  "cells": [
    {
      "cell_type": "markdown",
      "source": [
        "1. Split this string"
      ],
      "metadata": {
        "id": "VsH1m2B6ld9C"
      }
    },
    {
      "cell_type": "code",
      "source": [
        "s = \"Hi there Sam!\""
      ],
      "metadata": {
        "id": "_7JLSr2wlq2r"
      },
      "execution_count": 1,
      "outputs": []
    },
    {
      "cell_type": "code",
      "source": [
        "print(s.split())"
      ],
      "metadata": {
        "colab": {
          "base_uri": "https://localhost:8080/"
        },
        "id": "QkN-ox1MmDZ5",
        "outputId": "0bf1c28c-5a14-4855-a719-d99afe6acb65"
      },
      "execution_count": 2,
      "outputs": [
        {
          "output_type": "stream",
          "name": "stdout",
          "text": [
            "['Hi', 'there', 'Sam!']\n"
          ]
        }
      ]
    },
    {
      "cell_type": "markdown",
      "source": [
        "2. Use .format() to print the following string.\n",
        "Output should be: The diameter of Earth is 12742 kilometers."
      ],
      "metadata": {
        "id": "F4zkM0Gll8S0"
      }
    },
    {
      "cell_type": "code",
      "source": [
        "planet = \"Earth\"\n",
        "diameter = 12742"
      ],
      "metadata": {
        "id": "A1PdRENDmBwm"
      },
      "execution_count": 5,
      "outputs": []
    },
    {
      "cell_type": "code",
      "source": [
        "print(\"The diameter of {0} is {1} kilometers.\".format(planet,diameter))"
      ],
      "metadata": {
        "colab": {
          "base_uri": "https://localhost:8080/"
        },
        "id": "qzaGLyqJmpE5",
        "outputId": "d9b32157-9302-4038-f75a-63cfc90131a8"
      },
      "execution_count": 6,
      "outputs": [
        {
          "output_type": "stream",
          "name": "stdout",
          "text": [
            "The diameter of Earth is 12742 kilometers.\n"
          ]
        }
      ]
    },
    {
      "cell_type": "markdown",
      "source": [
        "3. In this nest dictionary grab the word \"hello\""
      ],
      "metadata": {
        "id": "8W5slUKsnKJn"
      }
    },
    {
      "cell_type": "code",
      "source": [
        "d = {'k1':[1,2,3,{'tricky':['oh','man','inception',{'target':[1,2,3,'hello']}]}]}"
      ],
      "metadata": {
        "id": "58CMsD33nLTw"
      },
      "execution_count": 7,
      "outputs": []
    },
    {
      "cell_type": "code",
      "source": [
        "print(d['k1'][3]['tricky'][3]['target'][3])"
      ],
      "metadata": {
        "colab": {
          "base_uri": "https://localhost:8080/"
        },
        "id": "9QzMBHBRnPVd",
        "outputId": "34031da0-936c-46c9-df95-06a7f27d078f"
      },
      "execution_count": 8,
      "outputs": [
        {
          "output_type": "stream",
          "name": "stdout",
          "text": [
            "hello\n"
          ]
        }
      ]
    },
    {
      "cell_type": "markdown",
      "source": [
        "3. In this nest dictionary grab the word \"hello\""
      ],
      "metadata": {
        "id": "3Dv7twL7pBXX"
      }
    },
    {
      "cell_type": "code",
      "source": [
        "d = {'k1':[1,2,3,{'tricky':['oh','man','inception',{'target':[1,2,3,'hello']}]}]}"
      ],
      "metadata": {
        "id": "vkG8B8nspSkZ"
      },
      "execution_count": 10,
      "outputs": []
    },
    {
      "cell_type": "code",
      "source": [
        "print(d['k1'][3]['tricky'][3]['target'][3])"
      ],
      "metadata": {
        "colab": {
          "base_uri": "https://localhost:8080/"
        },
        "id": "oVc2vRNApW8x",
        "outputId": "f3cc100a-111c-4c4d-c570-144d7a80c106"
      },
      "execution_count": 11,
      "outputs": [
        {
          "output_type": "stream",
          "name": "stdout",
          "text": [
            "hello\n"
          ]
        }
      ]
    },
    {
      "cell_type": "markdown",
      "source": [
        "Numpy"
      ],
      "metadata": {
        "id": "BA16_9HPpbhR"
      }
    },
    {
      "cell_type": "code",
      "source": [
        "import numpy as np"
      ],
      "metadata": {
        "id": "jXEwL9MgpfkD"
      },
      "execution_count": 12,
      "outputs": []
    },
    {
      "cell_type": "markdown",
      "source": [
        "4.1 Create an array of 10 zeros?"
      ],
      "metadata": {
        "id": "U-9VItt3pso6"
      }
    },
    {
      "cell_type": "markdown",
      "source": [
        "4.2 Create an array of 10 fives?"
      ],
      "metadata": {
        "id": "g7lnTk81pwHR"
      }
    },
    {
      "cell_type": "code",
      "source": [
        "arr1=np.zeros(10)\n",
        "print(arr1)"
      ],
      "metadata": {
        "colab": {
          "base_uri": "https://localhost:8080/"
        },
        "id": "LaTnydafp1Ko",
        "outputId": "a5dc4b07-56cf-4fce-9f2d-1598ff28ed72"
      },
      "execution_count": 14,
      "outputs": [
        {
          "output_type": "stream",
          "name": "stdout",
          "text": [
            "[0. 0. 0. 0. 0. 0. 0. 0. 0. 0.]\n"
          ]
        }
      ]
    },
    {
      "cell_type": "code",
      "source": [
        "arr1=np.ones(10)*5\n",
        "print(arr1)"
      ],
      "metadata": {
        "colab": {
          "base_uri": "https://localhost:8080/"
        },
        "id": "AWSy_L2zqJqc",
        "outputId": "26ccf98c-bf01-4e26-fb50-7ad361abf341"
      },
      "execution_count": 16,
      "outputs": [
        {
          "output_type": "stream",
          "name": "stdout",
          "text": [
            "[5. 5. 5. 5. 5. 5. 5. 5. 5. 5.]\n"
          ]
        }
      ]
    },
    {
      "cell_type": "markdown",
      "source": [
        "5. Create an array of all the even integers from 20 to 35"
      ],
      "metadata": {
        "id": "rRpB2UPeqQMl"
      }
    },
    {
      "cell_type": "code",
      "source": [
        "e=np.arange(20,35,2)\n",
        "print(e)"
      ],
      "metadata": {
        "colab": {
          "base_uri": "https://localhost:8080/"
        },
        "id": "EFa47BpQqRXd",
        "outputId": "2cb40d4c-7564-4980-8a48-34a0695b2201"
      },
      "execution_count": 17,
      "outputs": [
        {
          "output_type": "stream",
          "name": "stdout",
          "text": [
            "[20 22 24 26 28 30 32 34]\n"
          ]
        }
      ]
    },
    {
      "cell_type": "markdown",
      "source": [
        "6. Create a 3x3 matrix with values ranging from 0 to 8"
      ],
      "metadata": {
        "id": "yYFN5QYWqdyo"
      }
    },
    {
      "cell_type": "code",
      "source": [
        "m=np.arange(0,9).reshape(3,3)\n",
        "print(m)"
      ],
      "metadata": {
        "colab": {
          "base_uri": "https://localhost:8080/"
        },
        "id": "pYruu4HkqeuX",
        "outputId": "6b7495b3-9ae7-4ecd-a155-264deb514d8d"
      },
      "execution_count": 18,
      "outputs": [
        {
          "output_type": "stream",
          "name": "stdout",
          "text": [
            "[[0 1 2]\n",
            " [3 4 5]\n",
            " [6 7 8]]\n"
          ]
        }
      ]
    },
    {
      "cell_type": "markdown",
      "source": [
        "7. Concatinate a and b"
      ],
      "metadata": {
        "id": "28pXGsSeqkP8"
      }
    },
    {
      "cell_type": "markdown",
      "source": [
        "a = np.array([1, 2, 3]), b = np.array([4, 5, 6])"
      ],
      "metadata": {
        "id": "5-RLe2juqlM4"
      }
    },
    {
      "cell_type": "code",
      "source": [
        "a=np.array([1,2,3])\n",
        "b=np.array([4,5,6])\n",
        "conc=np.concatenate((a,b),axis=0)\n",
        "print(conc)"
      ],
      "metadata": {
        "colab": {
          "base_uri": "https://localhost:8080/"
        },
        "id": "AdaM-VqLqoKo",
        "outputId": "5333969f-b2ae-4113-f484-07a31f754c47"
      },
      "execution_count": 19,
      "outputs": [
        {
          "output_type": "stream",
          "name": "stdout",
          "text": [
            "[1 2 3 4 5 6]\n"
          ]
        }
      ]
    },
    {
      "cell_type": "markdown",
      "source": [
        "Pandas"
      ],
      "metadata": {
        "id": "u0r3H17LqxIC"
      }
    },
    {
      "cell_type": "markdown",
      "source": [
        "8. Create a dataframe with 3 rows and 2 columns"
      ],
      "metadata": {
        "id": "F050Zp35qyEL"
      }
    },
    {
      "cell_type": "code",
      "source": [
        "import pandas as pd"
      ],
      "metadata": {
        "id": "hm9Rc34Rq2bp"
      },
      "execution_count": 21,
      "outputs": []
    },
    {
      "cell_type": "code",
      "source": [
        "d=[[1,'hi'],[2,'hello'],[3,'welcome']]\n",
        "a=pd.DataFrame(d,columns=['id','name'])\n",
        "print(a)"
      ],
      "metadata": {
        "colab": {
          "base_uri": "https://localhost:8080/"
        },
        "id": "Sp3iWK2Vq3Iw",
        "outputId": "04ffd76e-3f84-41c8-f03a-b43b9df8c6dd"
      },
      "execution_count": 22,
      "outputs": [
        {
          "output_type": "stream",
          "name": "stdout",
          "text": [
            "   id     name\n",
            "0   1       hi\n",
            "1   2    hello\n",
            "2   3  welcome\n"
          ]
        }
      ]
    },
    {
      "cell_type": "markdown",
      "source": [
        "9. Generate the series of dates from 1st Jan, 2023 to 10th Feb, 2023"
      ],
      "metadata": {
        "id": "V6RCNfupq_RY"
      }
    },
    {
      "cell_type": "code",
      "source": [
        "#from dateutil.parser import parse\n",
        "di=pd.date_range(start='1-1-2023',periods=41)\n",
        "res=di\n",
        "print(res)"
      ],
      "metadata": {
        "colab": {
          "base_uri": "https://localhost:8080/"
        },
        "id": "iAgB1XNFrARm",
        "outputId": "5032bc4d-8155-43b6-ee0f-676b9979f2fd"
      },
      "execution_count": 23,
      "outputs": [
        {
          "output_type": "stream",
          "name": "stdout",
          "text": [
            "DatetimeIndex(['2023-01-01', '2023-01-02', '2023-01-03', '2023-01-04',\n",
            "               '2023-01-05', '2023-01-06', '2023-01-07', '2023-01-08',\n",
            "               '2023-01-09', '2023-01-10', '2023-01-11', '2023-01-12',\n",
            "               '2023-01-13', '2023-01-14', '2023-01-15', '2023-01-16',\n",
            "               '2023-01-17', '2023-01-18', '2023-01-19', '2023-01-20',\n",
            "               '2023-01-21', '2023-01-22', '2023-01-23', '2023-01-24',\n",
            "               '2023-01-25', '2023-01-26', '2023-01-27', '2023-01-28',\n",
            "               '2023-01-29', '2023-01-30', '2023-01-31', '2023-02-01',\n",
            "               '2023-02-02', '2023-02-03', '2023-02-04', '2023-02-05',\n",
            "               '2023-02-06', '2023-02-07', '2023-02-08', '2023-02-09',\n",
            "               '2023-02-10'],\n",
            "              dtype='datetime64[ns]', freq='D')\n"
          ]
        }
      ]
    },
    {
      "cell_type": "markdown",
      "source": [
        "10. Create 2D list to DataFrame"
      ],
      "metadata": {
        "id": "Tvb8W7HZrF92"
      }
    },
    {
      "cell_type": "code",
      "source": [
        "lists = [[1, 'aaa', 22], [2, 'bbb', 25], [3, 'ccc', 24]]"
      ],
      "metadata": {
        "id": "1V_o_2hIrGm6"
      },
      "execution_count": 24,
      "outputs": []
    },
    {
      "cell_type": "code",
      "source": [
        "d=pd.DataFrame(lists,columns=['No','name','age'])\n",
        "print(d)"
      ],
      "metadata": {
        "colab": {
          "base_uri": "https://localhost:8080/"
        },
        "id": "X-iQHn-KrKhs",
        "outputId": "39cc3208-6a0b-468e-bc0e-063304fe940e"
      },
      "execution_count": 25,
      "outputs": [
        {
          "output_type": "stream",
          "name": "stdout",
          "text": [
            "   No name  age\n",
            "0   1  aaa   22\n",
            "1   2  bbb   25\n",
            "2   3  ccc   24\n"
          ]
        }
      ]
    }
  ]
}