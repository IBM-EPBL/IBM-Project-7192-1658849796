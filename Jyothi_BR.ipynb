{
  "nbformat": 4,
  "nbformat_minor": 0,
  "metadata": {
    "colab": {
      "provenance": [],
      "collapsed_sections": []
    },
    "kernelspec": {
      "name": "python3",
      "display_name": "Python 3"
    },
    "language_info": {
      "name": "python"
    }
  },
  "cells": [
    {
      "cell_type": "code",
      "execution_count": null,
      "metadata": {
        "id": "cdH_kR70OaS4"
      },
      "outputs": [],
      "source": []
    },
    {
      "cell_type": "markdown",
      "source": [
        "\n",
        "1. Split this string"
      ],
      "metadata": {
        "id": "6Ke0rhLAOqF8"
      }
    },
    {
      "cell_type": "code",
      "source": [
        "s = \"Hi there Sam!\" "
      ],
      "metadata": {
        "id": "dAQOvr6hOv87"
      },
      "execution_count": 1,
      "outputs": []
    },
    {
      "cell_type": "code",
      "source": [
        "print(s.split())"
      ],
      "metadata": {
        "colab": {
          "base_uri": "https://localhost:8080/"
        },
        "id": "_OFLp5V2O2Wc",
        "outputId": "f58e0663-d8f4-472d-a4b1-81080ad4468d"
      },
      "execution_count": 2,
      "outputs": [
        {
          "output_type": "stream",
          "name": "stdout",
          "text": [
            "['Hi', 'there', 'Sam!']\n"
          ]
        }
      ]
    },
    {
      "cell_type": "markdown",
      "source": [
        "2. Use .format() to print the following string.\n",
        "Output should be: The diameter of Earth is 12742 kilometers."
      ],
      "metadata": {
        "id": "sk7PCGt4O8ks"
      }
    },
    {
      "cell_type": "markdown",
      "source": [],
      "metadata": {
        "id": "jY5DzINbO-jt"
      }
    },
    {
      "cell_type": "code",
      "source": [
        "planet = \"Earth\"\n",
        "diameter = 12742"
      ],
      "metadata": {
        "id": "MDBCCRY2O-z8"
      },
      "execution_count": 3,
      "outputs": []
    },
    {
      "cell_type": "code",
      "source": [
        "print(\"The diameter of {0} is {1} kilometers.\".format(planet,diameter))"
      ],
      "metadata": {
        "colab": {
          "base_uri": "https://localhost:8080/"
        },
        "id": "yK-Lh3doPCA0",
        "outputId": "e9c6b659-425f-46a4-d1f8-4ae9efee80c9"
      },
      "execution_count": 4,
      "outputs": [
        {
          "output_type": "stream",
          "name": "stdout",
          "text": [
            "The diameter of Earth is 12742 kilometers.\n"
          ]
        }
      ]
    },
    {
      "cell_type": "markdown",
      "source": [
        "3. In this nest dictionary grab the word \"hello\""
      ],
      "metadata": {
        "id": "NnVe-E9iPGHE"
      }
    },
    {
      "cell_type": "code",
      "source": [
        "d = {'k1':[1,2,3,{'tricky':['oh','man','inception',{'target':[1,2,3,'hello']}]}]}"
      ],
      "metadata": {
        "id": "xVtkuV60PKj9"
      },
      "execution_count": 5,
      "outputs": []
    },
    {
      "cell_type": "code",
      "source": [
        "print(d['k1'][3]['tricky'][3]['target'][3])"
      ],
      "metadata": {
        "colab": {
          "base_uri": "https://localhost:8080/"
        },
        "id": "5CyD7nzMPMdF",
        "outputId": "f681e56f-03c9-45c5-a48a-e50272378040"
      },
      "execution_count": 6,
      "outputs": [
        {
          "output_type": "stream",
          "name": "stdout",
          "text": [
            "hello\n"
          ]
        }
      ]
    },
    {
      "cell_type": "markdown",
      "source": [
        "3. In this nest dictionary grab the word \"hello\""
      ],
      "metadata": {
        "id": "Mr-j2_Y4POs9"
      }
    },
    {
      "cell_type": "code",
      "source": [
        "d = {'k1':[1,2,3,{'tricky':['oh','man','inception',{'target':[1,2,3,'hello']}]}]}"
      ],
      "metadata": {
        "id": "J-tyONRzPQQd"
      },
      "execution_count": 7,
      "outputs": []
    },
    {
      "cell_type": "code",
      "source": [
        "print(d['k1'][3]['tricky'][3]['target'][3])"
      ],
      "metadata": {
        "colab": {
          "base_uri": "https://localhost:8080/"
        },
        "id": "NB0p2u2CPSzl",
        "outputId": "fbc4f2e0-d9a7-42bd-84f6-4e59578b520f"
      },
      "execution_count": 8,
      "outputs": [
        {
          "output_type": "stream",
          "name": "stdout",
          "text": [
            "hello\n"
          ]
        }
      ]
    },
    {
      "cell_type": "markdown",
      "source": [
        "**Numpy**"
      ],
      "metadata": {
        "id": "WkBfgBBPPV-0"
      }
    },
    {
      "cell_type": "code",
      "source": [
        "import numpy as np"
      ],
      "metadata": {
        "id": "_OZSZlQhPXbs"
      },
      "execution_count": 9,
      "outputs": []
    },
    {
      "cell_type": "markdown",
      "source": [
        "4.1 Create an array of 10 zeros?"
      ],
      "metadata": {
        "id": "LoaVYVyaPayC"
      }
    },
    {
      "cell_type": "markdown",
      "source": [
        "4.2 Create an array of 10 fives?"
      ],
      "metadata": {
        "id": "vxRbGiszPc1T"
      }
    },
    {
      "cell_type": "code",
      "source": [
        "arr1=np.zeros(10)\n",
        "print(arr1)"
      ],
      "metadata": {
        "colab": {
          "base_uri": "https://localhost:8080/"
        },
        "id": "JZLG2jTmPenc",
        "outputId": "20c76f7b-3ba5-47a9-dddd-cbaf868897fc"
      },
      "execution_count": 10,
      "outputs": [
        {
          "output_type": "stream",
          "name": "stdout",
          "text": [
            "[0. 0. 0. 0. 0. 0. 0. 0. 0. 0.]\n"
          ]
        }
      ]
    },
    {
      "cell_type": "code",
      "source": [
        "arr1=np.ones(10)*5\n",
        "print(arr1)"
      ],
      "metadata": {
        "colab": {
          "base_uri": "https://localhost:8080/"
        },
        "id": "83JizCdBPgpt",
        "outputId": "e12ff60e-45e1-4198-e985-27dc6e20f80b"
      },
      "execution_count": 11,
      "outputs": [
        {
          "output_type": "stream",
          "name": "stdout",
          "text": [
            "[5. 5. 5. 5. 5. 5. 5. 5. 5. 5.]\n"
          ]
        }
      ]
    },
    {
      "cell_type": "markdown",
      "source": [
        "5. Create an array of all the even integers from 20 to 35\n"
      ],
      "metadata": {
        "id": "11A8uHriPke0"
      }
    },
    {
      "cell_type": "code",
      "source": [
        "e=np.arange(20,35,2)\n",
        "print(e)"
      ],
      "metadata": {
        "colab": {
          "base_uri": "https://localhost:8080/"
        },
        "id": "lnQGVUbVPmU0",
        "outputId": "101adddf-675b-4bd7-c4dc-8057d2bce18a"
      },
      "execution_count": 12,
      "outputs": [
        {
          "output_type": "stream",
          "name": "stdout",
          "text": [
            "[20 22 24 26 28 30 32 34]\n"
          ]
        }
      ]
    },
    {
      "cell_type": "markdown",
      "source": [
        "6. Create a 3x3 matrix with values ranging from 0 to 8"
      ],
      "metadata": {
        "id": "zplsoe-bPxD0"
      }
    },
    {
      "cell_type": "code",
      "source": [
        "m=np.arange(0,9).reshape(3,3)\n",
        "print(m)"
      ],
      "metadata": {
        "colab": {
          "base_uri": "https://localhost:8080/"
        },
        "id": "XX4LeAUgPym0",
        "outputId": "2fe677a6-de18-4bfd-ad6b-636ae04b7764"
      },
      "execution_count": 13,
      "outputs": [
        {
          "output_type": "stream",
          "name": "stdout",
          "text": [
            "[[0 1 2]\n",
            " [3 4 5]\n",
            " [6 7 8]]\n"
          ]
        }
      ]
    },
    {
      "cell_type": "markdown",
      "source": [],
      "metadata": {
        "id": "z8dLARMLP2a8"
      }
    },
    {
      "cell_type": "markdown",
      "source": [
        "7. Concatinate a and b\n",
        "a = np.array([1, 2, 3]), b = np.array([4, 5, 6])"
      ],
      "metadata": {
        "id": "_Mvr60T-P2hk"
      }
    },
    {
      "cell_type": "code",
      "source": [
        "a=np.array([1,2,3])\n",
        "b=np.array([4,5,6])\n",
        "conc=np.concatenate((a,b),axis=0)\n",
        "print(conc)"
      ],
      "metadata": {
        "colab": {
          "base_uri": "https://localhost:8080/"
        },
        "id": "hE4LCNmoP7m0",
        "outputId": "a24267ab-bb39-4b28-dd14-bfd3524163e1"
      },
      "execution_count": 15,
      "outputs": [
        {
          "output_type": "stream",
          "name": "stdout",
          "text": [
            "[1 2 3 4 5 6]\n"
          ]
        }
      ]
    },
    {
      "cell_type": "markdown",
      "source": [
        "Create a dataframe with 3 rows and 2 columns"
      ],
      "metadata": {
        "id": "dajAPWmSQIVl"
      }
    },
    {
      "cell_type": "code",
      "source": [
        "import pandas as pd"
      ],
      "metadata": {
        "id": "kX5L-OWnQKQc"
      },
      "execution_count": 16,
      "outputs": []
    },
    {
      "cell_type": "code",
      "source": [
        "d=[[1,'hi'],[2,'hello'],[3,'welcome']]\n",
        "a=pd.DataFrame(d,columns=['id','name'])\n",
        "print(a)"
      ],
      "metadata": {
        "colab": {
          "base_uri": "https://localhost:8080/"
        },
        "id": "d0AgqIcqQMBM",
        "outputId": "e198a625-1061-467b-b34f-d962f62eba15"
      },
      "execution_count": 17,
      "outputs": [
        {
          "output_type": "stream",
          "name": "stdout",
          "text": [
            "   id     name\n",
            "0   1       hi\n",
            "1   2    hello\n",
            "2   3  welcome\n"
          ]
        }
      ]
    },
    {
      "cell_type": "markdown",
      "source": [
        "9. Generate the series of dates from 1st Jan, 2023 to 10th Feb, 2023"
      ],
      "metadata": {
        "id": "w4AZjXdpQOrL"
      }
    },
    {
      "cell_type": "code",
      "source": [
        "#from dateutil.parser import parse\n",
        "di=pd.date_range(start='1-1-2023',periods=41)\n",
        "res=di\n",
        "print(res)"
      ],
      "metadata": {
        "colab": {
          "base_uri": "https://localhost:8080/"
        },
        "id": "2kpmW5fhQRv1",
        "outputId": "dffd4b4a-96e7-48cb-cb66-5c5c78f61c1c"
      },
      "execution_count": 18,
      "outputs": [
        {
          "output_type": "stream",
          "name": "stdout",
          "text": [
            "DatetimeIndex(['2023-01-01', '2023-01-02', '2023-01-03', '2023-01-04',\n",
            "               '2023-01-05', '2023-01-06', '2023-01-07', '2023-01-08',\n",
            "               '2023-01-09', '2023-01-10', '2023-01-11', '2023-01-12',\n",
            "               '2023-01-13', '2023-01-14', '2023-01-15', '2023-01-16',\n",
            "               '2023-01-17', '2023-01-18', '2023-01-19', '2023-01-20',\n",
            "               '2023-01-21', '2023-01-22', '2023-01-23', '2023-01-24',\n",
            "               '2023-01-25', '2023-01-26', '2023-01-27', '2023-01-28',\n",
            "               '2023-01-29', '2023-01-30', '2023-01-31', '2023-02-01',\n",
            "               '2023-02-02', '2023-02-03', '2023-02-04', '2023-02-05',\n",
            "               '2023-02-06', '2023-02-07', '2023-02-08', '2023-02-09',\n",
            "               '2023-02-10'],\n",
            "              dtype='datetime64[ns]', freq='D')\n"
          ]
        }
      ]
    },
    {
      "cell_type": "markdown",
      "source": [
        "10. Create 2D list to DataFrame"
      ],
      "metadata": {
        "id": "p9j3zrX_QYwn"
      }
    },
    {
      "cell_type": "code",
      "source": [
        "lists = [[1, 'aaa', 22], [2, 'bbb', 25], [3, 'ccc', 24]]"
      ],
      "metadata": {
        "id": "Awpi75n7QacN"
      },
      "execution_count": 19,
      "outputs": []
    },
    {
      "cell_type": "code",
      "source": [],
      "metadata": {
        "id": "jHrBDKD_Qb-M"
      },
      "execution_count": null,
      "outputs": []
    },
    {
      "cell_type": "code",
      "source": [
        "d=pd.DataFrame(lists,columns=['No','name','age'])\n",
        "print(d)"
      ],
      "metadata": {
        "colab": {
          "base_uri": "https://localhost:8080/"
        },
        "id": "2cSfuR9OQcHt",
        "outputId": "6f1d7c41-8a57-488e-a72e-5eeda85637c0"
      },
      "execution_count": 20,
      "outputs": [
        {
          "output_type": "stream",
          "name": "stdout",
          "text": [
            "   No name  age\n",
            "0   1  aaa   22\n",
            "1   2  bbb   25\n",
            "2   3  ccc   24\n"
          ]
        }
      ]
    }
  ]
}